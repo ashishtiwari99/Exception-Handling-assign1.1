{
 "cells": [
  {
   "cell_type": "code",
   "execution_count": 2,
   "id": "62856445-c084-48f8-8254-b7bf1b032976",
   "metadata": {},
   "outputs": [],
   "source": [
    "#diffinition  of Exception -An exception is an event, which occurs during the execution of a program that disrupts the normal flow of the program's instructions. In general, when a Python script encounters a situation that it cannot cope with, it raises an exception. An exception is a Python object that represents an error.\n",
    "\n",
    "#Difference between Syntax Error and Exceptions\n",
    "\n",
    "#Syntax Error: As the name suggests this error is caused by the wrong syntax in the code. It leads to the termination of the program.\n",
    "#Exceptions: Exceptions are raised when the program is syntactically correct, but the code results in an error. This error does not stop the execution of the program, however, it changes the normal flow of the program.\n",
    "\n"
   ]
  },
  {
   "cell_type": "code",
   "execution_count": 3,
   "id": "416c1e94-a690-437b-83e3-d1c95dc3ced2",
   "metadata": {},
   "outputs": [],
   "source": [
    "#What happens when an exception is not handled in Python?\n",
    "\n",
    "\n",
    "#Python has many built-in exceptions which forces your program to output an error when something in it goes wrong. When these exceptions occur, it causes the current process to stop and passes it to the calling process until it is handled. If not handled, our program will crash."
   ]
  },
  {
   "cell_type": "code",
   "execution_count": 4,
   "id": "ba4e5644-9ce7-48a8-acde-d17e4a6ba43a",
   "metadata": {},
   "outputs": [
    {
     "data": {
      "text/plain": [
       "80"
      ]
     },
     "execution_count": 4,
     "metadata": {},
     "output_type": "execute_result"
    }
   ],
   "source": [
    "#In Python, we can use the try and the except blocks to handle most of these errors as exceptions all the more gracefully.\n",
    "\n",
    "#exaples\n",
    "\n",
    "try :\n",
    "    f = open(\"test.txt\" ,'r')\n",
    "except Exception as e :\n",
    "    print(\"this is my except error \" , e)\n",
    "    \n",
    "a = 33+ 47\n",
    "a"
   ]
  },
  {
   "cell_type": "code",
   "execution_count": 5,
   "id": "d4d3ea5e-49da-4514-8134-878fcf616ed3",
   "metadata": {},
   "outputs": [
    {
     "name": "stdout",
     "output_type": "stream",
     "text": [
      "this is a else block\n"
     ]
    }
   ],
   "source": [
    "# the 'try' and'else' statements are used in python for flow control.\n",
    "try :\n",
    "    f = open(\"test.txt\" ,'w')\n",
    "    f.write(\"write into my file\")\n",
    "except Exception as e :\n",
    "    print(\"this is my except error block \" , e)\n",
    "else :\n",
    "    f.close()\n",
    "    print(\"this is a else block\" )"
   ]
  },
  {
   "cell_type": "code",
   "execution_count": 6,
   "id": "eea60ba5-bd86-4494-b957-0612f8642375",
   "metadata": {},
   "outputs": [
    {
     "name": "stdout",
     "output_type": "stream",
     "text": [
      "finally will execute itself in any situation\n"
     ]
    }
   ],
   "source": [
    "#finally - fiunally defines a block of code we use along with the try keyword. it defines code that always run after the try and any catch block,before the method is completed.\n",
    "try :\n",
    "    f = open(\"test.txt\" ,'w')\n",
    "    f.write(\"write something\")\n",
    "finally :\n",
    "    print(\"finally will execute itself in any situation\")"
   ]
  },
  {
   "cell_type": "code",
   "execution_count": 7,
   "id": "67cb98b7-d2ad-4a35-84ef-daaecefd808c",
   "metadata": {},
   "outputs": [],
   "source": [
    "#raise_ the raise keyword raises a specific exception when a condition is met or the code encounters an error.\n",
    "def validateage(age) :\n",
    "    if age < 0 :\n",
    "        raise validateage(\"enterd age is negative\")\n",
    "    elif age > 200 :\n",
    "        raise validateage(\"enterd age is maximum \")\n",
    "    else :\n",
    "        print(\"age is positive\")"
   ]
  },
  {
   "cell_type": "code",
   "execution_count": 8,
   "id": "6197f9cc-6e5b-4dfa-aa38-067ed0a69fc4",
   "metadata": {},
   "outputs": [
    {
     "name": "stdin",
     "output_type": "stream",
     "text": [
      "enter your age  65\n"
     ]
    },
    {
     "name": "stdout",
     "output_type": "stream",
     "text": [
      "age is positive\n"
     ]
    }
   ],
   "source": [
    "try :\n",
    "    age = int(input(\"enter your age \"))\n",
    "    validateage(age)\n",
    "except validateage as e :\n",
    "    print(e)\n",
    "              "
   ]
  },
  {
   "cell_type": "code",
   "execution_count": 9,
   "id": "fa256363-0ac8-4f17-9c68-d2a59b7d6973",
   "metadata": {},
   "outputs": [],
   "source": [
    "#custom Exception - Custom Exception are useful in situations where you want to handle specific errors in a program. \n",
    "#for examples ,suppose you are writing a program that reads data from a file . if the file does not exist , python will raise a FileNotFoundError exception.\n",
    "\n"
   ]
  },
  {
   "cell_type": "code",
   "execution_count": 10,
   "id": "a78b41ef-d32c-4f0e-a34c-22ac9e894f70",
   "metadata": {},
   "outputs": [
    {
     "name": "stdout",
     "output_type": "stream",
     "text": [
      "this is my custom exception\n"
     ]
    }
   ],
   "source": [
    "class CustomException(Exception):\n",
    "    \"\"\" my custom exception class \"\"\"\n",
    "    \n",
    "try :\n",
    "    raise CustomException ('this is my custom exception')\n",
    "except CustomException as ex:\n",
    "    print(ex)"
   ]
  },
  {
   "cell_type": "code",
   "execution_count": 11,
   "id": "01210f47-1e13-44ba-8e05-b267a963fbea",
   "metadata": {},
   "outputs": [
    {
     "name": "stdout",
     "output_type": "stream",
     "text": [
      "this is my custom exception first block\n"
     ]
    }
   ],
   "source": [
    "class CustomException(Exception):\n",
    "    \"\"\" my custom exception class  is block of execution data\"\"\"\n",
    "    \n",
    "try :\n",
    "    raise CustomException ('this is my custom exception first block')\n",
    "except CustomException as ex:\n",
    "    print(ex)"
   ]
  },
  {
   "cell_type": "code",
   "execution_count": null,
   "id": "6894fcc5-3199-4042-86e3-cae9fdb95a4c",
   "metadata": {},
   "outputs": [],
   "source": []
  }
 ],
 "metadata": {
  "kernelspec": {
   "display_name": "Python 3 (ipykernel)",
   "language": "python",
   "name": "python3"
  },
  "language_info": {
   "codemirror_mode": {
    "name": "ipython",
    "version": 3
   },
   "file_extension": ".py",
   "mimetype": "text/x-python",
   "name": "python",
   "nbconvert_exporter": "python",
   "pygments_lexer": "ipython3",
   "version": "3.10.8"
  }
 },
 "nbformat": 4,
 "nbformat_minor": 5
}
